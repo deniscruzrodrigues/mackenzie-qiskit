{
 "cells": [
  {
   "cell_type": "code",
   "execution_count": 30,
   "id": "0afb75eb",
   "metadata": {},
   "outputs": [],
   "source": [
    "#Importa as libs\n",
    "from qiskit import QuantumCircuit, transpile #Classe para criar e manipular circuitos quânticos\n",
    "from qiskit_aer import Aer #Módulo para simulação de circuitos quânticos\n",
    "from qiskit.visualization import plot_histogram #Função para plotar histogramas\n",
    "import matplotlib.pyplot as plt #Biblioteca para plotar gráficos"
   ]
  },
  {
   "cell_type": "code",
   "execution_count": 31,
   "id": "1a2bc6ed",
   "metadata": {},
   "outputs": [],
   "source": [
    "#Crie um circuito quântico com 2 qubits\n",
    "circuit = QuantumCircuit(2)"
   ]
  },
  {
   "cell_type": "code",
   "execution_count": 32,
   "id": "49c4b50c",
   "metadata": {},
   "outputs": [
    {
     "data": {
      "text/plain": [
       "<qiskit.circuit.instructionset.InstructionSet at 0x23488dcd8d0>"
      ]
     },
     "execution_count": 32,
     "metadata": {},
     "output_type": "execute_result"
    }
   ],
   "source": [
    "#Adiciona portas quanticas ao circuito\n",
    "qc.h(0) # Porta Hadamard no qubit 0 (Superposição estando 50% 0 e 50% 1)\n",
    "qc.cx(0, 1) # Porta CNOT entre qubit 0 e qubit 1 (Entrelaçamento dos qubits, o que significa que o estado de um qubit afeta o outro)"
   ]
  },
  {
   "cell_type": "code",
   "execution_count": 33,
   "id": "4556cbaa",
   "metadata": {},
   "outputs": [],
   "source": [
    "#Mensuração dos qubits\n",
    "qc.measure_all() # Adiciona medições a todos os qubits permitindo visualizar os resultados"
   ]
  },
  {
   "cell_type": "code",
   "execution_count": 34,
   "id": "5a2d7efe",
   "metadata": {},
   "outputs": [
    {
     "name": "stdout",
     "output_type": "stream",
     "text": [
      "         ┌───┐     ┌───┐     ┌───┐      ░ ┌─┐┌───┐      ░ ┌─┐┌───┐      ░ ┌─┐»\n",
      "    q_0: ┤ H ├──■──┤ H ├──■──┤ H ├──■───░─┤M├┤ H ├──■───░─┤M├┤ H ├──■───░─┤M├»\n",
      "         └───┘┌─┴─┐└───┘┌─┴─┐└───┘┌─┴─┐ ░ └╥┘└┬─┬┘┌─┴─┐ ░ └╥┘└┬─┬┘┌─┴─┐ ░ └╥┘»\n",
      "    q_1: ─────┤ X ├─────┤ X ├─────┤ X ├─░──╫──┤M├─┤ X ├─░──╫──┤M├─┤ X ├─░──╫─»\n",
      "              └───┘     └───┘     └───┘ ░  ║  └╥┘ └───┘ ░  ║  └╥┘ └───┘ ░  ║ »\n",
      " meas: 2/══════════════════════════════════╩═══╩═══════════╬═══╬═══════════╬═»\n",
      "                                           0   1           ║   ║           ║ »\n",
      "meas0: 2/══════════════════════════════════════════════════╩═══╩═══════════╬═»\n",
      "                                                           0   1           ║ »\n",
      "meas1: 2/══════════════════════════════════════════════════════════════════╩═»\n",
      "                                                                           0 »\n",
      "«            \n",
      "«    q_0: ───\n",
      "«         ┌─┐\n",
      "«    q_1: ┤M├\n",
      "«         └╥┘\n",
      "« meas: 2/═╬═\n",
      "«          ║ \n",
      "«meas0: 2/═╬═\n",
      "«          ║ \n",
      "«meas1: 2/═╩═\n",
      "«          1 \n"
     ]
    }
   ],
   "source": [
    "#Visualiza o circuito\n",
    "print(qc.draw()) # Desenha o circuito quântico de 2 qubits\n",
    "#Porta Hadamard (H) aplicada ao qubit 0 colocando em superposição (0,1) e a porta CNOT (CX) entre o qubit 0 e o qubit 1 entrelaçando os dois qubits.\n",
    "#A medição finaliza o circuito permitindo visualizar os resultados.\n",
    "#As Medidas gravam os resultados em bits clássicos, onde 0 representa o estado |0> e 1 representa o estado |1>.\n"
   ]
  },
  {
   "cell_type": "code",
   "execution_count": 35,
   "id": "8ae9b570",
   "metadata": {},
   "outputs": [],
   "source": [
    "#Simula o backend do circuito e retorna os resultados\n",
    "simulator = Aer.get_backend('qasm_simulator')"
   ]
  },
  {
   "cell_type": "code",
   "execution_count": 36,
   "id": "83ac9d33",
   "metadata": {},
   "outputs": [],
   "source": [
    "#Executa o circuito no backend simulado, adaptando para conectividade entre qubits\n",
    "compiled_circuit = transpile(qc, simulator)"
   ]
  },
  {
   "cell_type": "code",
   "execution_count": 37,
   "id": "921f46ac",
   "metadata": {},
   "outputs": [],
   "source": [
    "#Executa o circuito 1024 vezes (shots) para distribuição estatística dos resultados\n",
    "job = simulator.run(compiled_circuit, shots=1024)"
   ]
  },
  {
   "cell_type": "code",
   "execution_count": 38,
   "id": "c6fc7a64",
   "metadata": {},
   "outputs": [
    {
     "name": "stdout",
     "output_type": "stream",
     "text": [
      "\n",
      "Total counts are: {'00 01 10': 111, '01 10 10': 127, '11 01 11': 142, '00 01 11': 134, '11 01 10': 117, '10 10 10': 115, '10 10 11': 129, '01 10 11': 149}\n"
     ]
    }
   ],
   "source": [
    "#Obtém os resultados da execução, com dicionário de contagem de resultados\n",
    "#{'10 01': 287} indica que o estado |10 10> foi medido 287 vezes\n",
    "#Num caso real, as medições poderiam ser usadas para verificar a segurança de uma chave criptografada, onde cada string de bits representa um estado da chave.\n",
    "result = job.result()\n",
    "counts = result.get_counts(qc)\n",
    "print(\"\\nTotal counts are:\", counts)"
   ]
  }
 ],
 "metadata": {
  "kernelspec": {
   "display_name": "Python 3",
   "language": "python",
   "name": "python3"
  },
  "language_info": {
   "codemirror_mode": {
    "name": "ipython",
    "version": 3
   },
   "file_extension": ".py",
   "mimetype": "text/x-python",
   "name": "python",
   "nbconvert_exporter": "python",
   "pygments_lexer": "ipython3",
   "version": "3.11.9"
  }
 },
 "nbformat": 4,
 "nbformat_minor": 5
}
